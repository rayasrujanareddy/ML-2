{
  "nbformat": 4,
  "nbformat_minor": 0,
  "metadata": {
    "colab": {
      "provenance": [],
      "include_colab_link": true
    },
    "kernelspec": {
      "name": "python3",
      "display_name": "Python 3"
    },
    "language_info": {
      "name": "python"
    }
  },
  "cells": [
    {
      "cell_type": "markdown",
      "metadata": {
        "id": "view-in-github",
        "colab_type": "text"
      },
      "source": [
        "<a href=\"https://colab.research.google.com/github/rayasrujanareddy/ML-2/blob/main/Multiple_Linear_Regression_Assignment_.ipynb\" target=\"_parent\"><img src=\"https://colab.research.google.com/assets/colab-badge.svg\" alt=\"Open In Colab\"/></a>"
      ]
    },
    {
      "cell_type": "markdown",
      "source": [
        "##  Question 1 - 50-startup dataset to predict the profit for a startup using single and multiple regression"
      ],
      "metadata": {
        "id": "Fpucf8Jfxkx4"
      }
    },
    {
      "cell_type": "markdown",
      "source": [
        "## **Import libraries**"
      ],
      "metadata": {
        "id": "c4NqNyyk1brx"
      }
    },
    {
      "cell_type": "code",
      "source": [
        "# Import necessary libraries\n",
        "import pandas as pd\n",
        "import numpy as np\n",
        "from sklearn.model_selection import train_test_split\n",
        "from sklearn.linear_model import LinearRegression\n",
        "from sklearn.metrics import mean_squared_error, r2_score\n",
        "from sklearn.preprocessing import StandardScaler\n",
        "import statsmodels.api as sm"
      ],
      "metadata": {
        "id": "KYHCkbAd1W04"
      },
      "execution_count": 106,
      "outputs": []
    },
    {
      "cell_type": "markdown",
      "source": [
        "## **Initialization**"
      ],
      "metadata": {
        "id": "nSI36nLRaBAC"
      }
    },
    {
      "cell_type": "markdown",
      "source": [
        "Loading the dataset and preparing the necessary libraries, variables, and data structures for further processing."
      ],
      "metadata": {
        "id": "VqzhL3KJdD4V"
      }
    },
    {
      "cell_type": "code",
      "source": [
        "# Load the dataset\n",
        "data = pd.read_csv('/content/50_Startups.csv') # Replace with the actual path to your file\n",
        "\n",
        "# Display the first few rows of the dataset\n",
        "print(data.head())\n",
        "\n",
        "# Preprocess the data\n",
        "# Convert categorical variable 'State' to dummy variables\n",
        "data = pd.get_dummies(data, drop_first=True)\n",
        "\n",
        "# Define the features and the target variable\n",
        "X = data.drop('Profit', axis=1)  # All columns except 'Profit'\n",
        "y = data['Profit']  # Profit column\n"
      ],
      "metadata": {
        "colab": {
          "base_uri": "https://localhost:8080/"
        },
        "id": "JMXjqRQO1vNw",
        "outputId": "fbc83e03-3d8d-44ee-bd45-d03590ee40a9"
      },
      "execution_count": 107,
      "outputs": [
        {
          "output_type": "stream",
          "name": "stdout",
          "text": [
            "   R&D Spend  Administration  Marketing Spend       State     Profit\n",
            "0  165349.20       136897.80        471784.10    New York  192261.83\n",
            "1  162597.70       151377.59        443898.53  California  191792.06\n",
            "2  153441.51       101145.55        407934.54     Florida  191050.39\n",
            "3  144372.41       118671.85        383199.62    New York  182901.99\n",
            "4  142107.34        91391.77        366168.42     Florida  166187.94\n"
          ]
        }
      ]
    },
    {
      "cell_type": "markdown",
      "source": [
        "## **Splitting**"
      ],
      "metadata": {
        "id": "AVSObXvW150b"
      }
    },
    {
      "cell_type": "markdown",
      "source": [
        "Dividing the dataset into training and testing sets to evaluate the model's performance on unseen data.\n",
        "\n"
      ],
      "metadata": {
        "id": "zEUQhmmldO-9"
      }
    },
    {
      "cell_type": "code",
      "source": [
        "# Split the data into training and testing sets\n",
        "X_train, X_test, y_train, y_test = train_test_split(X, y, test_size=0.2, random_state=42)\n"
      ],
      "metadata": {
        "id": "gibC8MD515fC"
      },
      "execution_count": 108,
      "outputs": []
    },
    {
      "cell_type": "markdown",
      "source": [
        "## **Standardization**"
      ],
      "metadata": {
        "id": "SbaRpmOG2QSz"
      }
    },
    {
      "cell_type": "markdown",
      "source": [
        "Scaling the features so they have a mean of 0 and standard deviation of 1 to ensure consistent feature magnitude for the regression model."
      ],
      "metadata": {
        "id": "3N9x6nEzdRun"
      }
    },
    {
      "cell_type": "code",
      "source": [
        "# Standardize the features (mean = 0, std = 1)\n",
        "from sklearn.preprocessing import StandardScaler\n",
        "scaler = StandardScaler()\n",
        "X_train_scaled = scaler.fit_transform(X_train)\n",
        "X_test_scaled = scaler.transform(X_test)\n",
        "\n",
        "# Standardize 'R&D Spend'\n",
        "scaler_single = StandardScaler() # Create a new scaler for the single feature\n",
        "X_single_train = X_train[['R&D Spend']]\n",
        "X_single_test = X_test[['R&D Spend']]\n",
        "X_single_train_scaled = scaler_single.fit_transform(X_single_train) # Fit the new scaler on the training data with only 'R&D Spend'\n",
        "X_single_test_scaled = scaler_single.transform(X_single_test) # Transform the test data with only 'R&D Spend' using the new scaler\n",
        "\n",
        "# Fit the single regression model using only 'R&D Spend'"
      ],
      "metadata": {
        "id": "ZX-yZ0CV2QDK"
      },
      "execution_count": 109,
      "outputs": []
    },
    {
      "cell_type": "markdown",
      "source": [
        "## **Training  the regression model**"
      ],
      "metadata": {
        "id": "cwwRCoztbLSU"
      }
    },
    {
      "cell_type": "markdown",
      "source": [
        "Fitting the regression model on the training data to learn the relationship between the features and the target variable."
      ],
      "metadata": {
        "id": "atiklpvzdViv"
      }
    },
    {
      "cell_type": "code",
      "source": [
        "multiple_reg_model = LinearRegression()\n",
        "multiple_reg_model.fit(X_train_scaled, y_train)\n",
        "single_reg_model = LinearRegression()\n",
        "single_reg_model.fit(X_single_train_scaled, y_train)"
      ],
      "metadata": {
        "colab": {
          "base_uri": "https://localhost:8080/",
          "height": 74
        },
        "id": "lmpxaNBhaibJ",
        "outputId": "88881562-71e2-405a-8650-64220042d5ab"
      },
      "execution_count": 110,
      "outputs": [
        {
          "output_type": "execute_result",
          "data": {
            "text/plain": [
              "LinearRegression()"
            ],
            "text/html": [
              "<style>#sk-container-id-14 {color: black;}#sk-container-id-14 pre{padding: 0;}#sk-container-id-14 div.sk-toggleable {background-color: white;}#sk-container-id-14 label.sk-toggleable__label {cursor: pointer;display: block;width: 100%;margin-bottom: 0;padding: 0.3em;box-sizing: border-box;text-align: center;}#sk-container-id-14 label.sk-toggleable__label-arrow:before {content: \"▸\";float: left;margin-right: 0.25em;color: #696969;}#sk-container-id-14 label.sk-toggleable__label-arrow:hover:before {color: black;}#sk-container-id-14 div.sk-estimator:hover label.sk-toggleable__label-arrow:before {color: black;}#sk-container-id-14 div.sk-toggleable__content {max-height: 0;max-width: 0;overflow: hidden;text-align: left;background-color: #f0f8ff;}#sk-container-id-14 div.sk-toggleable__content pre {margin: 0.2em;color: black;border-radius: 0.25em;background-color: #f0f8ff;}#sk-container-id-14 input.sk-toggleable__control:checked~div.sk-toggleable__content {max-height: 200px;max-width: 100%;overflow: auto;}#sk-container-id-14 input.sk-toggleable__control:checked~label.sk-toggleable__label-arrow:before {content: \"▾\";}#sk-container-id-14 div.sk-estimator input.sk-toggleable__control:checked~label.sk-toggleable__label {background-color: #d4ebff;}#sk-container-id-14 div.sk-label input.sk-toggleable__control:checked~label.sk-toggleable__label {background-color: #d4ebff;}#sk-container-id-14 input.sk-hidden--visually {border: 0;clip: rect(1px 1px 1px 1px);clip: rect(1px, 1px, 1px, 1px);height: 1px;margin: -1px;overflow: hidden;padding: 0;position: absolute;width: 1px;}#sk-container-id-14 div.sk-estimator {font-family: monospace;background-color: #f0f8ff;border: 1px dotted black;border-radius: 0.25em;box-sizing: border-box;margin-bottom: 0.5em;}#sk-container-id-14 div.sk-estimator:hover {background-color: #d4ebff;}#sk-container-id-14 div.sk-parallel-item::after {content: \"\";width: 100%;border-bottom: 1px solid gray;flex-grow: 1;}#sk-container-id-14 div.sk-label:hover label.sk-toggleable__label {background-color: #d4ebff;}#sk-container-id-14 div.sk-serial::before {content: \"\";position: absolute;border-left: 1px solid gray;box-sizing: border-box;top: 0;bottom: 0;left: 50%;z-index: 0;}#sk-container-id-14 div.sk-serial {display: flex;flex-direction: column;align-items: center;background-color: white;padding-right: 0.2em;padding-left: 0.2em;position: relative;}#sk-container-id-14 div.sk-item {position: relative;z-index: 1;}#sk-container-id-14 div.sk-parallel {display: flex;align-items: stretch;justify-content: center;background-color: white;position: relative;}#sk-container-id-14 div.sk-item::before, #sk-container-id-14 div.sk-parallel-item::before {content: \"\";position: absolute;border-left: 1px solid gray;box-sizing: border-box;top: 0;bottom: 0;left: 50%;z-index: -1;}#sk-container-id-14 div.sk-parallel-item {display: flex;flex-direction: column;z-index: 1;position: relative;background-color: white;}#sk-container-id-14 div.sk-parallel-item:first-child::after {align-self: flex-end;width: 50%;}#sk-container-id-14 div.sk-parallel-item:last-child::after {align-self: flex-start;width: 50%;}#sk-container-id-14 div.sk-parallel-item:only-child::after {width: 0;}#sk-container-id-14 div.sk-dashed-wrapped {border: 1px dashed gray;margin: 0 0.4em 0.5em 0.4em;box-sizing: border-box;padding-bottom: 0.4em;background-color: white;}#sk-container-id-14 div.sk-label label {font-family: monospace;font-weight: bold;display: inline-block;line-height: 1.2em;}#sk-container-id-14 div.sk-label-container {text-align: center;}#sk-container-id-14 div.sk-container {/* jupyter's `normalize.less` sets `[hidden] { display: none; }` but bootstrap.min.css set `[hidden] { display: none !important; }` so we also need the `!important` here to be able to override the default hidden behavior on the sphinx rendered scikit-learn.org. See: https://github.com/scikit-learn/scikit-learn/issues/21755 */display: inline-block !important;position: relative;}#sk-container-id-14 div.sk-text-repr-fallback {display: none;}</style><div id=\"sk-container-id-14\" class=\"sk-top-container\"><div class=\"sk-text-repr-fallback\"><pre>LinearRegression()</pre><b>In a Jupyter environment, please rerun this cell to show the HTML representation or trust the notebook. <br />On GitHub, the HTML representation is unable to render, please try loading this page with nbviewer.org.</b></div><div class=\"sk-container\" hidden><div class=\"sk-item\"><div class=\"sk-estimator sk-toggleable\"><input class=\"sk-toggleable__control sk-hidden--visually\" id=\"sk-estimator-id-14\" type=\"checkbox\" checked><label for=\"sk-estimator-id-14\" class=\"sk-toggleable__label sk-toggleable__label-arrow\">LinearRegression</label><div class=\"sk-toggleable__content\"><pre>LinearRegression()</pre></div></div></div></div></div>"
            ]
          },
          "metadata": {},
          "execution_count": 110
        }
      ]
    },
    {
      "cell_type": "markdown",
      "source": [
        "## **Predicting the Test set results  for both Multiple and single linear regression**"
      ],
      "metadata": {
        "id": "8B0hf4uQbDYX"
      }
    },
    {
      "cell_type": "code",
      "source": [
        "# Predict on test set\n",
        "y_pred_multiple = multiple_reg_model.predict(X_test_scaled)\n",
        "# Predict on test set for single regression\n",
        "y_pred_single = single_reg_model.predict(X_single_test_scaled)\n"
      ],
      "metadata": {
        "id": "7DYOHVo7a42Z"
      },
      "execution_count": 111,
      "outputs": []
    },
    {
      "cell_type": "markdown",
      "source": [
        "## **Computing R-squared value and Accuracy and MSE for both multiple and single linear regression**"
      ],
      "metadata": {
        "id": "bAVf9IKo3PLF"
      }
    },
    {
      "cell_type": "code",
      "source": [
        "\n",
        "# Calculate metrics for single regression\n",
        "mse_single = mean_squared_error(y_test, y_pred_single)\n",
        "r2_single = r2_score(y_test, y_pred_single)\n",
        "# Calculate metrics for multiple regression\n",
        "mse_multiple = mean_squared_error(y_test, y_pred_multiple)\n",
        "r2_multiple = r2_score(y_test, y_pred_multiple)\n",
        "\n",
        "# Output results\n",
        "print(f\"Multiple Regression: MSE = {mse_multiple}, R² = {r2_multiple}\")\n",
        "print(f\"Single Regression: MSE = {mse_single}, R² = {r2_single}\")\n",
        "a_m = r2_multiple * 100\n",
        "print(\"Accuracy for multiple linear regression:\", a_m)\n",
        "a_s = r2_single * 100\n",
        "print(\"Accuracy for single linear regression:\", a_s)\n",
        "\n"
      ],
      "metadata": {
        "colab": {
          "base_uri": "https://localhost:8080/"
        },
        "id": "EWGz1ylI6cBk",
        "outputId": "df6388c7-6db6-43cf-c4a1-d6e8c57d714f"
      },
      "execution_count": 112,
      "outputs": [
        {
          "output_type": "stream",
          "name": "stdout",
          "text": [
            "Multiple Regression: MSE = 82010363.04501359, R² = 0.8987266414319838\n",
            "Single Regression: MSE = 59510962.80787997, R² = 0.9265108109341951\n",
            "Accuracy for multiple linear regression: 89.87266414319838\n",
            "Accuracy for single linear regression: 92.6510810934195\n"
          ]
        }
      ]
    },
    {
      "cell_type": "markdown",
      "source": [
        "## Question 2 -\n",
        "## ToyotaCorolla dataset to Predicting Price using single and multiple linear regressions\n"
      ],
      "metadata": {
        "id": "t5VjdqoTxjkQ"
      }
    },
    {
      "cell_type": "markdown",
      "source": [
        "## **Importing Libraries**"
      ],
      "metadata": {
        "id": "GTg5Af-pp4Q_"
      }
    },
    {
      "cell_type": "code",
      "source": [
        "# Import necessary libraries\n",
        "import pandas as pd\n",
        "import numpy as np\n",
        "from sklearn.model_selection import train_test_split\n",
        "from sklearn.linear_model import LinearRegression\n",
        "from sklearn.metrics import mean_squared_error, mean_absolute_error, r2_score\n"
      ],
      "metadata": {
        "id": "aGGq82V9o9t2"
      },
      "execution_count": 113,
      "outputs": []
    },
    {
      "cell_type": "markdown",
      "source": [
        "## **Initialization**"
      ],
      "metadata": {
        "id": "TPEw-Ry8d9GX"
      }
    },
    {
      "cell_type": "markdown",
      "source": [
        "Loading the dataset and preparing the necessary libraries, variables, and data structures for further processing."
      ],
      "metadata": {
        "id": "OosZaWvjeRr7"
      }
    },
    {
      "cell_type": "code",
      "source": [
        "#Load the dataset\n",
        "df = pd.read_csv('/content/ToyotaCorolla.csv')\n",
        "\n",
        "# Selecting the relevant columns\n",
        "columns_of_interest = [\"Price\", \"Age_08_04\", \"KM\", \"HP\", \"cc\", \"Doors\", \"Gears\", \"Quarterly_Tax\", \"Weight\"]\n",
        "df = df[columns_of_interest]\n",
        "\n",
        "# Handling any missing values (if any)\n",
        "df.dropna(inplace=True)"
      ],
      "metadata": {
        "id": "0I6NZDLKd_SI"
      },
      "execution_count": 114,
      "outputs": []
    },
    {
      "cell_type": "markdown",
      "source": [
        "## **Splitting**"
      ],
      "metadata": {
        "id": "NXnshK1JqBpr"
      }
    },
    {
      "cell_type": "markdown",
      "source": [
        "Dividing the dataset into training and testing sets to evaluate the model's performance on unseen data."
      ],
      "metadata": {
        "id": "M8h4JQchehn1"
      }
    },
    {
      "cell_type": "code",
      "source": [
        "# Splitting the data into features (X) and target (y)\n",
        "X = df.drop(\"Price\", axis=1)\n",
        "y = df[\"Price\"]\n"
      ],
      "metadata": {
        "id": "72fQs82qpFti"
      },
      "execution_count": 96,
      "outputs": []
    },
    {
      "cell_type": "code",
      "source": [
        "# Splitting the dataset into training and testing sets\n",
        "X_train, X_test, y_train, y_test = train_test_split(X, y, test_size=0.2, random_state=42)"
      ],
      "metadata": {
        "id": "rv8k8LmUuQQn"
      },
      "execution_count": 97,
      "outputs": []
    },
    {
      "cell_type": "code",
      "source": [
        "# --- Single Linear Regression (using Age_08_04 as an example feature) ---\n",
        "# Creating a single feature for single linear regression\n",
        "X_single = X_train[[\"Age_08_04\"]]\n",
        "X_single_test = X_test[[\"Age_08_04\"]]\n"
      ],
      "metadata": {
        "id": "Btp3CYQMuUj2"
      },
      "execution_count": 98,
      "outputs": []
    },
    {
      "cell_type": "markdown",
      "source": [
        "## **Training the regression model**"
      ],
      "metadata": {
        "id": "VtgCX1jfqIYM"
      }
    },
    {
      "cell_type": "markdown",
      "source": [
        " Fitting the regression model on the training data to learn the relationship between the features and the target variable."
      ],
      "metadata": {
        "id": "Jg_kWGWmfpz8"
      }
    },
    {
      "cell_type": "code",
      "source": [
        "single_model = LinearRegression()\n",
        "single_model.fit(X_single, y_train)\n",
        "\n",
        "multiple_model = LinearRegression()\n",
        "multiple_model.fit(X_train, y_train)"
      ],
      "metadata": {
        "colab": {
          "base_uri": "https://localhost:8080/",
          "height": 74
        },
        "id": "llJK49jDtxTI",
        "outputId": "a1a2ece0-e076-4704-94b3-41a93955b8e7"
      },
      "execution_count": 99,
      "outputs": [
        {
          "output_type": "execute_result",
          "data": {
            "text/plain": [
              "LinearRegression()"
            ],
            "text/html": [
              "<style>#sk-container-id-13 {color: black;}#sk-container-id-13 pre{padding: 0;}#sk-container-id-13 div.sk-toggleable {background-color: white;}#sk-container-id-13 label.sk-toggleable__label {cursor: pointer;display: block;width: 100%;margin-bottom: 0;padding: 0.3em;box-sizing: border-box;text-align: center;}#sk-container-id-13 label.sk-toggleable__label-arrow:before {content: \"▸\";float: left;margin-right: 0.25em;color: #696969;}#sk-container-id-13 label.sk-toggleable__label-arrow:hover:before {color: black;}#sk-container-id-13 div.sk-estimator:hover label.sk-toggleable__label-arrow:before {color: black;}#sk-container-id-13 div.sk-toggleable__content {max-height: 0;max-width: 0;overflow: hidden;text-align: left;background-color: #f0f8ff;}#sk-container-id-13 div.sk-toggleable__content pre {margin: 0.2em;color: black;border-radius: 0.25em;background-color: #f0f8ff;}#sk-container-id-13 input.sk-toggleable__control:checked~div.sk-toggleable__content {max-height: 200px;max-width: 100%;overflow: auto;}#sk-container-id-13 input.sk-toggleable__control:checked~label.sk-toggleable__label-arrow:before {content: \"▾\";}#sk-container-id-13 div.sk-estimator input.sk-toggleable__control:checked~label.sk-toggleable__label {background-color: #d4ebff;}#sk-container-id-13 div.sk-label input.sk-toggleable__control:checked~label.sk-toggleable__label {background-color: #d4ebff;}#sk-container-id-13 input.sk-hidden--visually {border: 0;clip: rect(1px 1px 1px 1px);clip: rect(1px, 1px, 1px, 1px);height: 1px;margin: -1px;overflow: hidden;padding: 0;position: absolute;width: 1px;}#sk-container-id-13 div.sk-estimator {font-family: monospace;background-color: #f0f8ff;border: 1px dotted black;border-radius: 0.25em;box-sizing: border-box;margin-bottom: 0.5em;}#sk-container-id-13 div.sk-estimator:hover {background-color: #d4ebff;}#sk-container-id-13 div.sk-parallel-item::after {content: \"\";width: 100%;border-bottom: 1px solid gray;flex-grow: 1;}#sk-container-id-13 div.sk-label:hover label.sk-toggleable__label {background-color: #d4ebff;}#sk-container-id-13 div.sk-serial::before {content: \"\";position: absolute;border-left: 1px solid gray;box-sizing: border-box;top: 0;bottom: 0;left: 50%;z-index: 0;}#sk-container-id-13 div.sk-serial {display: flex;flex-direction: column;align-items: center;background-color: white;padding-right: 0.2em;padding-left: 0.2em;position: relative;}#sk-container-id-13 div.sk-item {position: relative;z-index: 1;}#sk-container-id-13 div.sk-parallel {display: flex;align-items: stretch;justify-content: center;background-color: white;position: relative;}#sk-container-id-13 div.sk-item::before, #sk-container-id-13 div.sk-parallel-item::before {content: \"\";position: absolute;border-left: 1px solid gray;box-sizing: border-box;top: 0;bottom: 0;left: 50%;z-index: -1;}#sk-container-id-13 div.sk-parallel-item {display: flex;flex-direction: column;z-index: 1;position: relative;background-color: white;}#sk-container-id-13 div.sk-parallel-item:first-child::after {align-self: flex-end;width: 50%;}#sk-container-id-13 div.sk-parallel-item:last-child::after {align-self: flex-start;width: 50%;}#sk-container-id-13 div.sk-parallel-item:only-child::after {width: 0;}#sk-container-id-13 div.sk-dashed-wrapped {border: 1px dashed gray;margin: 0 0.4em 0.5em 0.4em;box-sizing: border-box;padding-bottom: 0.4em;background-color: white;}#sk-container-id-13 div.sk-label label {font-family: monospace;font-weight: bold;display: inline-block;line-height: 1.2em;}#sk-container-id-13 div.sk-label-container {text-align: center;}#sk-container-id-13 div.sk-container {/* jupyter's `normalize.less` sets `[hidden] { display: none; }` but bootstrap.min.css set `[hidden] { display: none !important; }` so we also need the `!important` here to be able to override the default hidden behavior on the sphinx rendered scikit-learn.org. See: https://github.com/scikit-learn/scikit-learn/issues/21755 */display: inline-block !important;position: relative;}#sk-container-id-13 div.sk-text-repr-fallback {display: none;}</style><div id=\"sk-container-id-13\" class=\"sk-top-container\"><div class=\"sk-text-repr-fallback\"><pre>LinearRegression()</pre><b>In a Jupyter environment, please rerun this cell to show the HTML representation or trust the notebook. <br />On GitHub, the HTML representation is unable to render, please try loading this page with nbviewer.org.</b></div><div class=\"sk-container\" hidden><div class=\"sk-item\"><div class=\"sk-estimator sk-toggleable\"><input class=\"sk-toggleable__control sk-hidden--visually\" id=\"sk-estimator-id-13\" type=\"checkbox\" checked><label for=\"sk-estimator-id-13\" class=\"sk-toggleable__label sk-toggleable__label-arrow\">LinearRegression</label><div class=\"sk-toggleable__content\"><pre>LinearRegression()</pre></div></div></div></div></div>"
            ]
          },
          "metadata": {},
          "execution_count": 99
        }
      ]
    },
    {
      "cell_type": "markdown",
      "source": [
        "## **Predicting the Test set results for both Multiple and single linear regression**"
      ],
      "metadata": {
        "id": "kPnlG92zfaU3"
      }
    },
    {
      "cell_type": "code",
      "source": [
        "# Predicting on the test set\n",
        "y_pred_single = single_model.predict(X_test[[\"Age_08_04\"]])\n",
        "\n",
        "# Predicting on the test set\n",
        "y_pred_multiple = multiple_model.predict(X_test)"
      ],
      "metadata": {
        "id": "365fleq7pP_8"
      },
      "execution_count": 100,
      "outputs": []
    },
    {
      "cell_type": "markdown",
      "source": [
        "## **Computing R-squared value ,MSE And Accuracy for both multiple and single linear regression**\n",
        "\n",
        "\n"
      ],
      "metadata": {
        "id": "k-TWByXJqdsx"
      }
    },
    {
      "cell_type": "code",
      "source": [
        "# Evaluating the single regression model\n",
        "mse_single = mean_squared_error(y_test, y_pred_single)\n",
        "r2_single = r2_score(y_test, y_pred_single)\n",
        "\n",
        "# Evaluating the multiple regression model\n",
        "mse_multiple = mean_squared_error(y_test, y_pred_multiple)\n",
        "r2_multiple = r2_score(y_test, y_pred_multiple)\n",
        "\n",
        "# Calculate accuracy (R² * 100)\n",
        "accuracy_single = r2_single * 100\n",
        "accuracy_multiple = r2_multiple * 100\n",
        "\n",
        "# Output results\n",
        "print(\"Single Linear Regression Results:\")\n",
        "print(f\"Mean Squared Error: {mse_single:.2f}\")\n",
        "print(f\"R² Value: {r2_single:.2f}\")\n",
        "print(f\"Accuracy: {accuracy_single:.2f}%\")\n",
        "\n",
        "print(\"\\nMultiple Linear Regression Results:\")\n",
        "print(f\"Mean Squared Error: {mse_multiple:.2f}\")\n",
        "print(f\"R² Value: {r2_multiple:.2f}\")\n",
        "print(f\"Accuracy: {accuracy_multiple:.2f}%\")"
      ],
      "metadata": {
        "colab": {
          "base_uri": "https://localhost:8080/"
        },
        "id": "o-7oZMVHxxvd",
        "outputId": "becc230e-7202-4c7d-f191-312d57f3c27d"
      },
      "execution_count": 101,
      "outputs": [
        {
          "output_type": "stream",
          "name": "stdout",
          "text": [
            "Single Linear Regression Results:\n",
            "Mean Squared Error: 3243363.41\n",
            "R² Value: 0.76\n",
            "Accuracy: 75.69%\n",
            "\n",
            "Multiple Linear Regression Results:\n",
            "Mean Squared Error: 1950244.99\n",
            "R² Value: 0.85\n",
            "Accuracy: 85.38%\n"
          ]
        }
      ]
    }
  ]
}